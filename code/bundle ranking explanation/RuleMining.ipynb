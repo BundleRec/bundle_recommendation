{
 "cells": [
  {
   "cell_type": "code",
   "execution_count": null,
   "metadata": {
    "ExecuteTime": {
     "end_time": "2022-07-01T02:37:30.178642Z",
     "start_time": "2022-07-01T02:37:30.003443Z"
    }
   },
   "outputs": [],
   "source": [
    "import numpy as np\n",
    "import pandas as pd\n",
    "from apyori import apriori\n",
    "from itertools import product\n",
    "from collections import defaultdict"
   ]
  },
  {
   "cell_type": "code",
   "execution_count": null,
   "metadata": {
    "ExecuteTime": {
     "end_time": "2022-07-05T02:26:24.645456Z",
     "start_time": "2022-07-05T02:26:24.639794Z"
    }
   },
   "outputs": [],
   "source": [
    "data_dir = 'data/food/'\n",
    "training_data = np.load(f'{data_dir}train.npy', allow_pickle=True).item()\n",
    "# test_data = np.load(f'{data_dir}validate.npy', allow_pickle=True).item()\n",
    "test_data = np.load(f'{data_dir}test.npy', allow_pickle=True).item()\n",
    "bundle_aspects = np.load(f'{data_dir}bundle_aspects.npy', allow_pickle=True).item()"
   ]
  },
  {
   "cell_type": "code",
   "execution_count": null,
   "metadata": {
    "ExecuteTime": {
     "end_time": "2022-07-05T02:26:25.915874Z",
     "start_time": "2022-07-05T02:26:25.907257Z"
    }
   },
   "outputs": [],
   "source": [
    "len(training_data.keys())"
   ]
  },
  {
   "cell_type": "code",
   "execution_count": null,
   "metadata": {
    "ExecuteTime": {
     "end_time": "2022-07-05T02:26:26.278120Z",
     "start_time": "2022-07-05T02:26:26.272608Z"
    }
   },
   "outputs": [],
   "source": [
    "filter_data = {k:v for k,v in training_data.items() if len(v)>1}"
   ]
  },
  {
   "cell_type": "code",
   "execution_count": null,
   "metadata": {
    "ExecuteTime": {
     "end_time": "2022-07-05T02:26:26.585167Z",
     "start_time": "2022-07-05T02:26:26.576592Z"
    }
   },
   "outputs": [],
   "source": [
    "len(filter_data)"
   ]
  },
  {
   "cell_type": "code",
   "execution_count": null,
   "metadata": {
    "ExecuteTime": {
     "end_time": "2022-07-05T02:26:27.538162Z",
     "start_time": "2022-07-05T02:26:27.533097Z"
    }
   },
   "outputs": [],
   "source": [
    "#remove empty set\n",
    "\n",
    "for user, bundles in filter_data.items():\n",
    "    for b in bundles:\n",
    "        if '' in b:\n",
    "            print(user)\n",
    "            bundles.remove([''])"
   ]
  },
  {
   "cell_type": "code",
   "execution_count": null,
   "metadata": {
    "ExecuteTime": {
     "end_time": "2022-07-05T02:26:27.780599Z",
     "start_time": "2022-07-05T02:26:27.773253Z"
    }
   },
   "outputs": [],
   "source": [
    "statistic_bundles = defaultdict(int)\n",
    "for bundles in filter_data.values():\n",
    "    statistic_bundles[len(bundles)] += 1"
   ]
  },
  {
   "cell_type": "code",
   "execution_count": null,
   "metadata": {
    "ExecuteTime": {
     "end_time": "2022-07-05T02:26:29.104041Z",
     "start_time": "2022-07-05T02:26:29.072735Z"
    }
   },
   "outputs": [],
   "source": [
    "all_patterns = []\n",
    "for bundles in filter_data.values():\n",
    "    if len(bundles) == 2:\n",
    "        all_patterns += list(product(bundles[0], bundles[1]))\n",
    "    elif len(bundles) == 3:\n",
    "        all_patterns += list(product(bundles[0], bundles[1], bundles[2]))\n",
    "    elif len(bundles) == 4:\n",
    "        all_patterns += list(product(bundles[0], bundles[1], bundles[2], bundles[3]))\n",
    "    elif len(bundles) == 5:\n",
    "        all_patterns += list(product(bundles[0], bundles[1], bundles[2], bundles[3], bundles[4]))"
   ]
  },
  {
   "cell_type": "code",
   "execution_count": null,
   "metadata": {
    "ExecuteTime": {
     "end_time": "2022-07-05T02:26:33.613744Z",
     "start_time": "2022-07-05T02:26:33.567147Z"
    }
   },
   "outputs": [],
   "source": [
    "filter_patterns = []\n",
    "\n",
    "for pattern in all_patterns:\n",
    "    filter_patterns.append(list(pattern))\n",
    "\n",
    "filter_patterns = [i for i in filter_patterns if len(i)>1]\n",
    "print(len(filter_patterns))"
   ]
  },
  {
   "cell_type": "code",
   "execution_count": null,
   "metadata": {
    "ExecuteTime": {
     "end_time": "2022-07-05T02:26:46.349983Z",
     "start_time": "2022-07-05T02:26:46.347968Z"
    }
   },
   "outputs": [],
   "source": [
    "association_rules = apriori(filter_patterns, min_support=0.0001, min_confidence=0.1, min_lift=3)\n",
    "association_results = list(association_rules)\n",
    "print(len(association_results))"
   ]
  },
  {
   "cell_type": "code",
   "execution_count": null,
   "metadata": {
    "ExecuteTime": {
     "end_time": "2022-07-05T02:30:24.460066Z",
     "start_time": "2022-07-05T02:30:24.455598Z"
    }
   },
   "outputs": [],
   "source": [
    "lookup_table = defaultdict(list)\n",
    "for item in association_results:\n",
    "    # First index of the inner list contains base item and add item\n",
    "    pair = item[0] \n",
    "    if len(pair) == 1:\n",
    "        continue\n",
    "    items = [x for x in pair]\n",
    "    items = sorted(items)\n",
    "    lookup_table[items[0]].append(items[1:])"
   ]
  },
  {
   "cell_type": "code",
   "execution_count": null,
   "metadata": {
    "ExecuteTime": {
     "end_time": "2022-07-05T02:30:27.543608Z",
     "start_time": "2022-07-05T02:30:27.538385Z"
    }
   },
   "outputs": [],
   "source": [
    "# lookup_table\n",
    "rules = lookup_table.copy()\n",
    "for head in rules:\n",
    "    tails = rules.get(head)\n",
    "    tails = sum(tails, [])\n",
    "    rules[head] = tails\n",
    "#     print(tails)\n",
    "#     break"
   ]
  },
  {
   "cell_type": "code",
   "execution_count": null,
   "metadata": {
    "ExecuteTime": {
     "end_time": "2022-07-05T02:30:33.114292Z",
     "start_time": "2022-07-05T02:30:29.029799Z"
    }
   },
   "outputs": [],
   "source": [
    "# test\n",
    "\n",
    "# step 1. find all possible bundles (not in training!)\n",
    "# step 2. rank bundles by counts\n",
    "# step 3. Pop bundles rec to users who have no pattern\n",
    "user_rec_candidate = defaultdict(dict)\n",
    "user_rec_rules = defaultdict(dict)\n",
    "\n",
    "for user in test_data:\n",
    "    bundles_aspects = training_data[user]\n",
    "    for aspects in bundles_aspects:\n",
    "        for aspect in aspects:\n",
    "            # intersection\n",
    "            if aspect not in rules:\n",
    "                continue\n",
    "            partial_rules = rules[aspect]\n",
    "            for bundle, b_aspects in bundle_aspects.items():\n",
    "                if aspects == b_aspects:\n",
    "                    continue\n",
    "                intersection_rules = [a for a in b_aspects if a in partial_rules]\n",
    "                if len(intersection_rules)>0:\n",
    "                    intersection_rules.append(aspect)\n",
    "                    if bundle in user_rec_candidate[user]:\n",
    "                        user_rec_rules[user][bundle].append(intersection_rules)\n",
    "                        if len(intersection_rules) > user_rec_candidate[user][bundle]:\n",
    "                            user_rec_candidate[user][bundle] = len(intersection_rules)\n",
    "                    else:\n",
    "                        user_rec_candidate[user][bundle] = len(intersection_rules)\n",
    "                        user_rec_rules[user][bundle] = [intersection_rules]\n",
    "#                     user_rec_candidate[user].append((bundle, len(intersection_rules)))"
   ]
  },
  {
   "cell_type": "code",
   "execution_count": null,
   "metadata": {
    "ExecuteTime": {
     "end_time": "2022-07-05T02:30:33.118919Z",
     "start_time": "2022-07-05T02:30:33.115660Z"
    }
   },
   "outputs": [],
   "source": [
    "len(user_rec_candidate), len(test_data), len(bundle_aspects)"
   ]
  },
  {
   "cell_type": "code",
   "execution_count": null,
   "metadata": {
    "ExecuteTime": {
     "end_time": "2022-07-05T02:30:35.454001Z",
     "start_time": "2022-07-05T02:30:35.379071Z"
    }
   },
   "outputs": [],
   "source": [
    "top20 = {}\n",
    "count = 0\n",
    "for user,j in user_rec_candidate.items():\n",
    "    top20_bundles = sorted(j.items(), key=lambda kv:(kv[1], kv[0]), reverse=True)[:10]\n",
    "    rec_list = [i[0] for i in top20_bundles]\n",
    "    top20[user] = rec_list"
   ]
  },
  {
   "cell_type": "code",
   "execution_count": null,
   "metadata": {
    "ExecuteTime": {
     "end_time": "2022-07-05T02:30:35.898240Z",
     "start_time": "2022-07-05T02:30:35.889799Z"
    }
   },
   "outputs": [],
   "source": [
    "len(top20)"
   ]
  },
  {
   "cell_type": "code",
   "execution_count": null,
   "metadata": {
    "ExecuteTime": {
     "end_time": "2022-07-05T02:30:43.720489Z",
     "start_time": "2022-07-05T02:30:43.696049Z"
    }
   },
   "outputs": [],
   "source": [
    "print('recommending')\n",
    "u_prediction = {}\n",
    "for u in top20.keys():\n",
    "    u_prediction[u] = [1 if i in test_data[u] else 0 for i in top20[u]]\n",
    "# res = pd.DataFrame({'metric@K': ['hr', 'ndcg']})\n",
    "print('evaluating')   \n",
    "for k in [1,5,10]:\n",
    "    tmp_preds = u_prediction.copy()        \n",
    "    tmp_preds = {key: rank_list[:k] for key, rank_list in tmp_preds.items()}\n",
    "\n",
    "    ndcg_k = np.mean([ndcg_at_k(r, k) for r in tmp_preds.values()])\n",
    "    hr_k = hr_at_k(tmp_preds, test_data)\n",
    "\n",
    "    print(f'HR@{k}: {hr_k:.4f}')\n",
    "    print(f'NDCG@{k}: {ndcg_k:.4f}')\n",
    "#     res[k] = np.array([hr_k, ndcg_k])"
   ]
  },
  {
   "cell_type": "code",
   "execution_count": null,
   "metadata": {
    "ExecuteTime": {
     "end_time": "2022-07-01T02:37:27.157009Z",
     "start_time": "2022-07-01T02:37:27.149326Z"
    }
   },
   "outputs": [],
   "source": [
    "def hr_at_k(rs, test_ur):\n",
    "    \"\"\"\n",
    "    Hit Ratio calculation method\n",
    "    Parameters\n",
    "    ----------\n",
    "    rs : Dict, {user : rank items} for test set\n",
    "    test_ur : (Deprecated) Dict, {user : items} for test set ground truth\n",
    "\n",
    "    Returns\n",
    "    -------\n",
    "    hr : float, HR value\n",
    "    \"\"\"\n",
    "    # another way for calculating hit rate\n",
    "    # numer, denom = 0., 0.\n",
    "    # for user in test_ur.keys():\n",
    "    #     numer += np.sum(rs[user])\n",
    "    #     denom += len(test_ur[user])\n",
    "\n",
    "    # return numer / denom\n",
    "    uhr = 0\n",
    "    for r in rs.values():\n",
    "        if np.sum(r) != 0:\n",
    "            uhr += 1\n",
    "    hr = uhr / len(rs)\n",
    "\n",
    "    return hr\n",
    "\n",
    "def dcg_at_k(r, k):\n",
    "    \"\"\"\n",
    "    Discounted Cumulative Gain calculation method\n",
    "    Parameters\n",
    "    ----------\n",
    "    r : List, Relevance scores (list or numpy) in rank order\n",
    "                (first element is the first item)\n",
    "    k : int, top-K number\n",
    "    Returns\n",
    "    -------\n",
    "    dcg : float, DCG value\n",
    "    \"\"\"\n",
    "    assert k >= 1\n",
    "    r = np.asfarray(r)[:k] != 0\n",
    "    if r.size:\n",
    "        dcg = np.sum(np.subtract(np.power(2, r), 1) / np.log2(np.arange(2, r.size + 2)))\n",
    "        return dcg\n",
    "    return 0.\n",
    "\n",
    "def ndcg_at_k(r, k):\n",
    "    \"\"\"\n",
    "    Normalized Discounted Cumulative Gain calculation method\n",
    "    Parameters\n",
    "    ----------\n",
    "    r : List, Relevance scores (list or numpy) in rank order\n",
    "            (first element is the first item)\n",
    "    k : int, top-K number\n",
    "    Returns\n",
    "    -------\n",
    "    ndcg : float, NDCG value\n",
    "    \"\"\"\n",
    "    assert k >= 1\n",
    "    idcg = dcg_at_k(sorted(r, reverse=True), k)\n",
    "    if not idcg:\n",
    "        return 0.\n",
    "    ndcg = dcg_at_k(r, k) / idcg\n",
    "\n",
    "    return ndcg"
   ]
  }
 ],
 "metadata": {
  "kernelspec": {
   "display_name": "Python 3 (ipykernel)",
   "language": "python",
   "name": "python3"
  },
  "language_info": {
   "codemirror_mode": {
    "name": "ipython",
    "version": 3
   },
   "file_extension": ".py",
   "mimetype": "text/x-python",
   "name": "python",
   "nbconvert_exporter": "python",
   "pygments_lexer": "ipython3",
   "version": "3.8.13"
  }
 },
 "nbformat": 4,
 "nbformat_minor": 4
}
