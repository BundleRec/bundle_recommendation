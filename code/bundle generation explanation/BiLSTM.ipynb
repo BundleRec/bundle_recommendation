{
 "cells": [
  {
   "cell_type": "code",
   "execution_count": 1,
   "id": "07138e72",
   "metadata": {
    "ExecuteTime": {
     "end_time": "2022-03-23T02:44:11.629578Z",
     "start_time": "2022-03-23T02:44:11.532631Z"
    }
   },
   "outputs": [
    {
     "data": {
      "text/plain": [
       "'Nestle Hot Cocoa Mix Rich Chocolate - 70/0.75oz. Envelopes, Community Coffee Whole Bean Coffee, French Roast, 12-Ounce Bags (Pack of 3)'"
      ]
     },
     "execution_count": 1,
     "metadata": {},
     "output_type": "execute_result"
    }
   ],
   "source": [
    "import numpy as np\n",
    "idx_intent = np.load('data/total_idx_intent.npy', allow_pickle=True).item()\n",
    "idx_titles = np.load('data/total_idx_titles.npy', allow_pickle=True).item()\n",
    "\n",
    "intents = []\n",
    "titles = []\n",
    "for k,v in idx_intent.items():\n",
    "    intents.append(v)\n",
    "    titles.append(idx_titles[k])\n",
    "    \n",
    "# split train, test set = 8:2\n",
    "test_num = int(len(intents)*0.2)\n",
    "\n",
    "train_intent = intents[:-test_num]\n",
    "train_titles = titles[:-test_num]\n",
    "test_intent = intents[-test_num:]\n",
    "test_titles = titles[-test_num:]\n",
    "\n",
    "train_intent.pop(1031)\n",
    "train_titles.pop(1031)\n",
    "test_intent.pop(816)\n",
    "test_titles.pop(816)"
   ]
  },
  {
   "cell_type": "code",
   "execution_count": 2,
   "id": "f2173f5f",
   "metadata": {
    "ExecuteTime": {
     "end_time": "2022-03-23T02:44:12.381804Z",
     "start_time": "2022-03-23T02:44:12.379986Z"
    }
   },
   "outputs": [],
   "source": [
    "data = {'titles':train_titles,\n",
    "       'intents':train_intent}"
   ]
  },
  {
   "cell_type": "code",
   "execution_count": 3,
   "id": "1df047ba",
   "metadata": {
    "ExecuteTime": {
     "end_time": "2022-03-23T02:44:12.781872Z",
     "start_time": "2022-03-23T02:44:12.778995Z"
    }
   },
   "outputs": [],
   "source": [
    "vali_data = {'titles':test_titles,\n",
    "       'intents':test_intent}"
   ]
  },
  {
   "cell_type": "code",
   "execution_count": 4,
   "id": "db750077",
   "metadata": {
    "ExecuteTime": {
     "end_time": "2022-03-23T02:44:16.039847Z",
     "start_time": "2022-03-23T02:44:13.321949Z"
    }
   },
   "outputs": [],
   "source": [
    "from torchtext.data.utils import get_tokenizer\n",
    "from torchtext.vocab import build_vocab_from_iterator\n",
    "from typing import Iterable, List\n",
    "\n",
    "vocab_transform = {}\n",
    "\n",
    "tokenizer = get_tokenizer('spacy', language='en_core_web_sm')\n",
    "\n",
    "# helper function to yield list of tokens\n",
    "def yield_tokens(data_iter: list, language: str) -> List[str]:\n",
    "    # language_index = {SRC_LANGUAGE: 0, TGT_LANGUAGE: 1}\n",
    "\n",
    "    for data_sample in data_iter:\n",
    "        yield tokenizer(data_sample)\n",
    "\n",
    "# Define special symbols and indices\n",
    "UNK_IDX, PAD_IDX, BOS_IDX, EOS_IDX = 0, 1, 2, 3\n",
    "# Make sure the tokens are in order of their indices to properly insert them in vocab\n",
    "special_symbols = ['<unk>', '<pad>', '<bos>', '<eos>']\n",
    "\n",
    "for ln in ['titles', 'intents']:\n",
    "    # Training data Iterator\n",
    "    # train_iter = Multi30k(split='train', language_pair=(SRC_LANGUAGE, TGT_LANGUAGE))\n",
    "    train_data = data[ln]\n",
    "    # Create torchtext's Vocab object\n",
    "    vocab_transform[ln] = build_vocab_from_iterator(yield_tokens(train_data, ln),\n",
    "                                                    min_freq=1,\n",
    "                                                    specials=special_symbols,\n",
    "                                                    special_first=True)\n",
    "\n",
    "# Set UNK_IDX as the default index. This index is returned when the token is not found.\n",
    "# If not set, it throws RuntimeError when the queried token is not found in the Vocabulary.\n",
    "for ln in ['titles', 'intents']:\n",
    "    vocab_transform[ln].set_default_index(UNK_IDX)"
   ]
  },
  {
   "cell_type": "code",
   "execution_count": 5,
   "id": "0f06b45b",
   "metadata": {
    "ExecuteTime": {
     "end_time": "2022-03-23T02:44:16.043884Z",
     "start_time": "2022-03-23T02:44:16.041230Z"
    }
   },
   "outputs": [
    {
     "data": {
      "text/plain": [
       "3085"
      ]
     },
     "execution_count": 5,
     "metadata": {},
     "output_type": "execute_result"
    }
   ],
   "source": [
    "len(vocab_transform['intents'])"
   ]
  },
  {
   "cell_type": "code",
   "execution_count": 6,
   "id": "ff5eae50",
   "metadata": {
    "ExecuteTime": {
     "end_time": "2022-03-23T02:44:16.048909Z",
     "start_time": "2022-03-23T02:44:16.045065Z"
    }
   },
   "outputs": [],
   "source": [
    "SRC_LANGUAGE = 'titles'\n",
    "TGT_LANGUAGE = 'intents'"
   ]
  },
  {
   "cell_type": "code",
   "execution_count": 7,
   "id": "1af67f78",
   "metadata": {
    "ExecuteTime": {
     "end_time": "2022-03-23T02:44:16.054427Z",
     "start_time": "2022-03-23T02:44:16.049920Z"
    }
   },
   "outputs": [],
   "source": [
    "from torch import nn\n",
    "# Defining the Encoder part of the model\n",
    "class Encoder(nn.Module):\n",
    "    \n",
    "    def __init__(self, input_size, embedding_size, hidden_size, num_layers, p):\n",
    "        super(Encoder, self).__init__()\n",
    "        self.dropout = nn.Dropout(p)\n",
    "        self.hidden_size = hidden_size\n",
    "        self.num_layers = num_layers\n",
    "\n",
    "        self.embedding = nn.Embedding(input_size, embedding_size)\n",
    "        self.rnn = nn.LSTM(embedding_size, hidden_size, num_layers, dropout=p, bidirectional=True)\n",
    "        \n",
    "#         self.h_projection = nn.Linear(in_features=self.hidden_size * 2, out_features=self.hidden_size, bias=False)\n",
    "#         self.c_projection = nn.Linear(in_features=self.hidden_size * 2, out_features=self.hidden_size, bias=False)\n",
    "\n",
    "    def forward(self, x):\n",
    "        # x shape: (seq_length, N) where N is batch size\n",
    "\n",
    "        embedding = self.dropout(self.embedding(x))\n",
    "        # embedding shape: (seq_length, N, embedding_size)\n",
    "\n",
    "        outputs, (hidden, cell) = self.rnn(embedding)\n",
    "        hidden_list, cell_list = [], []\n",
    "        for i in range(self.num_layers):\n",
    "            add_dire = hidden[i,:,:] + hidden[i+self.num_layers,:,:]\n",
    "            hidden_list.append(add_dire)\n",
    "            add_dire = cell[i,:,:] + cell[i+self.num_layers,:,:]\n",
    "            cell_list.append(add_dire)\n",
    "        final_hidden = torch.stack(hidden_list)\n",
    "        final_cell = torch.stack(cell_list)\n",
    "        # outputs shape: (seq_length, N, hidden_size)\n",
    "#         init_decoder_hidden = self.h_projection(torch.cat([hidden[0], hidden[1]], dim=1))\n",
    "#         init_decoder_cell = self.c_projection(torch.cat([cell[0], cell[1]], dim=1))\n",
    "        \n",
    "        return final_hidden, final_cell"
   ]
  },
  {
   "cell_type": "code",
   "execution_count": 8,
   "id": "d3787926",
   "metadata": {
    "ExecuteTime": {
     "end_time": "2022-03-23T02:44:16.061570Z",
     "start_time": "2022-03-23T02:44:16.055774Z"
    }
   },
   "outputs": [],
   "source": [
    "# Defining the Decoder part\n",
    "\n",
    "class Decoder(nn.Module):\n",
    "    def __init__(\n",
    "        self, input_size, embedding_size, hidden_size, output_size, num_layers, p):\n",
    "        super(Decoder, self).__init__()\n",
    "        self.dropout = nn.Dropout(p)\n",
    "        self.hidden_size = hidden_size\n",
    "        self.num_layers = num_layers\n",
    "\n",
    "        self.embedding = nn.Embedding(input_size, embedding_size)\n",
    "        self.rnn = nn.LSTM(embedding_size, hidden_size, num_layers, dropout=p)\n",
    "        self.fc = nn.Linear(hidden_size, output_size)\n",
    "\n",
    "    def forward(self, x, hidden, cell):\n",
    "        # x shape: (N) where N is for batch size, we want it to be (1, N), seq_length\n",
    "        # is 1 here because we are sending in a single word and not a sentence\n",
    "        x = x.unsqueeze(0)\n",
    "\n",
    "        embedding = self.dropout(self.embedding(x))\n",
    "        # embedding shape: (1, N, embedding_size)\n",
    "\n",
    "        outputs, (hidden, cell) = self.rnn(embedding, (hidden, cell))\n",
    "        # outputs shape: (1, N, hidden_size)\n",
    "\n",
    "        predictions = self.fc(outputs)\n",
    "\n",
    "        # predictions shape: (1, N, length_target_vocabulary) to send it to\n",
    "        # loss function we want it to be (N, length_target_vocabulary) so we're\n",
    "        # just gonna remove the first dim\n",
    "        predictions = predictions.squeeze(0)\n",
    "\n",
    "        return predictions, hidden, cell"
   ]
  },
  {
   "cell_type": "code",
   "execution_count": 9,
   "id": "df076700",
   "metadata": {
    "ExecuteTime": {
     "end_time": "2022-03-23T02:44:16.370765Z",
     "start_time": "2022-03-23T02:44:16.366325Z"
    }
   },
   "outputs": [],
   "source": [
    "import random\n",
    "\n",
    "# Defining the complete model\n",
    "class Seq2Seq(nn.Module):\n",
    "    def __init__(self, encoder, decoder):\n",
    "        super(Seq2Seq, self).__init__()\n",
    "        self.encoder = encoder\n",
    "        self.decoder = decoder\n",
    "\n",
    "    def forward(self, source, target, teacher_force_ratio=0.5):\n",
    "        batch_size = source.shape[1]\n",
    "        target_len = target.shape[0]\n",
    "        # SRC_VOCAB_SIZE = len(vocab_transform[SRC_LANGUAGE])\n",
    "        # TGT_VOCAB_SIZE = len(vocab_transform[TGT_LANGUAGE])\n",
    "        # target_vocab_size = len(english.vocab)\n",
    "        target_vocab_size = len(vocab_transform[TGT_LANGUAGE])\n",
    "\n",
    "        outputs = torch.zeros(target_len, batch_size, target_vocab_size).to(device)\n",
    "\n",
    "        hidden, cell = self.encoder(source)\n",
    "#         print(hidden.size())\n",
    "        # Grab the first input to the Decoder which will be <SOS> token\n",
    "        x = target[0]\n",
    "#         print(x.size(), hidden.size(), cell.size())\n",
    "        for t in range(1, target_len):\n",
    "            # Use previous hidden, cell as context from encoder at start\n",
    "            output, hidden, cell = self.decoder(x, hidden, cell)\n",
    "\n",
    "            # Store next output prediction\n",
    "            outputs[t] = output\n",
    "\n",
    "            # Get the best word the Decoder predicted (index in the vocabulary)\n",
    "            best_guess = output.argmax(1)\n",
    "\n",
    "            # With probability of teacher_force_ratio we take the actual next word\n",
    "            # otherwise we take the word that the Decoder predicted it to be.\n",
    "            # Teacher Forcing is used so that the model gets used to seeing\n",
    "            # similar inputs at training and testing time, if teacher forcing is 1\n",
    "            # then inputs at test time might be completely different than what the\n",
    "            # network is used to. This was a long comment.\n",
    "            x = target[t] if random.random() < teacher_force_ratio else best_guess\n",
    "\n",
    "        return outputs"
   ]
  },
  {
   "cell_type": "code",
   "execution_count": 10,
   "id": "156fcd6e",
   "metadata": {
    "ExecuteTime": {
     "end_time": "2022-03-23T02:44:17.150993Z",
     "start_time": "2022-03-23T02:44:17.148090Z"
    }
   },
   "outputs": [],
   "source": [
    "import torch\n",
    "\n",
    "# Hyperparameters\n",
    "num_epochs = 30\n",
    "learning_rate = 0.001\n",
    "batch_size = 64\n",
    "\n",
    "# Model hyperparameters\n",
    "load_model = False\n",
    "device = torch.device(\"cuda\" if torch.cuda.is_available() else 'cpu')\n",
    "input_size_encoder = len(vocab_transform[SRC_LANGUAGE])\n",
    "input_size_decoder = len(vocab_transform[TGT_LANGUAGE])\n",
    "output_size = len(vocab_transform[TGT_LANGUAGE])\n",
    "encoder_embedding_size = 300\n",
    "decoder_embedding_size = 300\n",
    "\n",
    "hidden_size = 512\n",
    "num_layers = 2\n",
    "enc_dropout = 0.5\n",
    "dec_dropout = 0.5"
   ]
  },
  {
   "cell_type": "code",
   "execution_count": 11,
   "id": "07b2843a",
   "metadata": {
    "ExecuteTime": {
     "end_time": "2022-03-23T02:44:24.341215Z",
     "start_time": "2022-03-23T02:44:21.546186Z"
    }
   },
   "outputs": [
    {
     "name": "stdout",
     "output_type": "stream",
     "text": [
      "Seq2Seq(\n",
      "  (encoder): Encoder(\n",
      "    (dropout): Dropout(p=0.5, inplace=False)\n",
      "    (embedding): Embedding(18264, 300)\n",
      "    (rnn): LSTM(300, 512, num_layers=2, dropout=0.5, bidirectional=True)\n",
      "  )\n",
      "  (decoder): Decoder(\n",
      "    (dropout): Dropout(p=0.5, inplace=False)\n",
      "    (embedding): Embedding(3085, 300)\n",
      "    (rnn): LSTM(300, 512, num_layers=2, dropout=0.5)\n",
      "    (fc): Linear(in_features=512, out_features=3085, bias=True)\n",
      "  )\n",
      ")\n"
     ]
    }
   ],
   "source": [
    "encoder_net = Encoder(input_size_encoder, \n",
    "                      encoder_embedding_size,\n",
    "                      hidden_size,num_layers, \n",
    "                      enc_dropout).to(device)\n",
    "\n",
    "\n",
    "decoder_net = Decoder(input_size_decoder, \n",
    "                      decoder_embedding_size,\n",
    "                      hidden_size,output_size,num_layers, \n",
    "                      dec_dropout).to(device)\n",
    "\n",
    "model = Seq2Seq(encoder_net, decoder_net).to(device)\n",
    "optimizer = torch.optim.Adam(model.parameters(), lr=learning_rate, betas=(0.9, 0.98), eps=1e-9)\n",
    "loss_fn = torch.nn.CrossEntropyLoss(ignore_index=PAD_IDX)\n",
    "\n",
    "print(model)"
   ]
  },
  {
   "cell_type": "code",
   "execution_count": 12,
   "id": "d4bfd71a",
   "metadata": {
    "ExecuteTime": {
     "end_time": "2022-03-23T02:44:24.345877Z",
     "start_time": "2022-03-23T02:44:24.342425Z"
    }
   },
   "outputs": [],
   "source": [
    "from torch.utils import data\n",
    "\n",
    "class TransData(data.Dataset):\n",
    "    def __init__(self, titles, intents, is_training=True):\n",
    "        \"\"\"\n",
    "        Dataset formatter adapted pair-wise algorithms\n",
    "        Parameters\n",
    "        ----------\n",
    "        neg_set : List,\n",
    "        is_training : bool,\n",
    "        \"\"\"\n",
    "        super(TransData, self).__init__()\n",
    "        self.titles = titles\n",
    "        self.intents = intents\n",
    "\n",
    "        # self.features_fill = []\n",
    "\n",
    "        # for u, i, r, js in neg_set:\n",
    "        #     u, i, r = int(u), int(i), np.float32(1)\n",
    "        #     if is_training:\n",
    "        #         for j in js:\n",
    "        #             self.features_fill.append([u, i, j, r])\n",
    "        #     else:\n",
    "        #         self.features_fill.append([u, i, i, r])\n",
    "\n",
    "    def __len__(self):\n",
    "        return len(self.titles)\n",
    "\n",
    "    def __getitem__(self, idx):\n",
    "        # features = self.features_fill\n",
    "        # user = features[idx][0]\n",
    "        # item_i = features[idx][1]\n",
    "        # item_j = features[idx][2]\n",
    "        # label = features[idx][3]\n",
    "\n",
    "        return self.titles[idx], self.intents[idx]"
   ]
  },
  {
   "cell_type": "code",
   "execution_count": 13,
   "id": "123af64f",
   "metadata": {
    "ExecuteTime": {
     "end_time": "2022-03-23T02:44:26.478948Z",
     "start_time": "2022-03-23T02:44:26.475694Z"
    }
   },
   "outputs": [],
   "source": [
    "data4Train = TransData(train_titles, train_intent)"
   ]
  },
  {
   "cell_type": "code",
   "execution_count": 14,
   "id": "9bc61f21",
   "metadata": {
    "ExecuteTime": {
     "end_time": "2022-03-23T02:44:27.614366Z",
     "start_time": "2022-03-23T02:44:27.610071Z"
    }
   },
   "outputs": [],
   "source": [
    "from torch.nn.utils.rnn import pad_sequence\n",
    "\n",
    "# helper function to club together sequential operations\n",
    "def sequential_transforms(*transforms):\n",
    "    def func(txt_input):\n",
    "        for transform in transforms:\n",
    "            txt_input = transform(txt_input)\n",
    "        return txt_input\n",
    "    return func\n",
    "\n",
    "# function to add BOS/EOS and create tensor for input sequence indices\n",
    "def tensor_transform(token_ids: List[int]):\n",
    "    return torch.cat((torch.tensor([BOS_IDX]),\n",
    "                      torch.tensor(token_ids),\n",
    "                      torch.tensor([EOS_IDX])))\n",
    "\n",
    "# src and tgt language text transforms to convert raw strings into tensors indices\n",
    "text_transform = {}\n",
    "for ln in [SRC_LANGUAGE, TGT_LANGUAGE]:\n",
    "    text_transform[ln] = sequential_transforms(tokenizer, #Tokenization token_transform[ln]\n",
    "                                               vocab_transform[ln], #Numericalization\n",
    "                                               tensor_transform) # Add BOS/EOS and create tensor\n",
    "\n",
    "\n",
    "# function to collate data samples into batch tesors\n",
    "def collate_fn(batch):\n",
    "    src_batch, tgt_batch = [], []\n",
    "    for src_sample, tgt_sample in batch:\n",
    "        src_batch.append(text_transform[SRC_LANGUAGE](src_sample.rstrip(\"\\n\")))\n",
    "        tgt_batch.append(text_transform[TGT_LANGUAGE](tgt_sample.rstrip(\"\\n\")))\n",
    "\n",
    "    src_batch = pad_sequence(src_batch, padding_value=PAD_IDX)\n",
    "    tgt_batch = pad_sequence(tgt_batch, padding_value=PAD_IDX)\n",
    "    return src_batch, tgt_batch"
   ]
  },
  {
   "cell_type": "code",
   "execution_count": 15,
   "id": "3e83d4c5",
   "metadata": {
    "ExecuteTime": {
     "end_time": "2022-03-23T02:44:30.154145Z",
     "start_time": "2022-03-23T02:44:30.149015Z"
    }
   },
   "outputs": [],
   "source": [
    "from torch.utils.data import DataLoader\n",
    "\n",
    "def train_epoch(model, optimizer):\n",
    "    model.train()\n",
    "    losses = 0\n",
    "    # train_iter = Multi30k(split='train', language_pair=(SRC_LANGUAGE, TGT_LANGUAGE))\n",
    "    train_iter = data4Train\n",
    "    train_dataloader = DataLoader(train_iter, batch_size=batch_size, collate_fn=collate_fn)\n",
    "\n",
    "    for src, tgt in train_dataloader:\n",
    "        src = src.to(device)\n",
    "        tgt = tgt.to(device)\n",
    "\n",
    "        tgt_input = tgt[:-1, :]\n",
    "\n",
    "#         src_mask, tgt_mask, src_padding_mask, tgt_padding_mask = create_mask(src, tgt_input)\n",
    "\n",
    "#         logits = model(src, tgt_input, src_mask, tgt_mask,src_padding_mask, tgt_padding_mask, src_padding_mask)\n",
    "\n",
    "        logits = model(src, tgt_input)\n",
    "        optimizer.zero_grad()\n",
    "\n",
    "        tgt_out = tgt[1:, :]\n",
    "        loss = loss_fn(logits.reshape(-1, logits.shape[-1]), tgt_out.reshape(-1))\n",
    "        loss.backward()\n",
    "\n",
    "        optimizer.step()\n",
    "        losses += loss.item()\n",
    "\n",
    "    return losses / len(train_dataloader)\n",
    "\n",
    "\n",
    "def evaluate(model):\n",
    "    model.eval()\n",
    "    losses = 0\n",
    "\n",
    "    # val_iter = Multi30k(split='valid', language_pair=(SRC_LANGUAGE, TGT_LANGUAGE))\n",
    "    val_iter = TransData(test_titles, test_intent)\n",
    "    val_dataloader = DataLoader(val_iter, batch_size=batch_size, collate_fn=collate_fn)\n",
    "\n",
    "    for src, tgt in val_dataloader:\n",
    "        src = src.to(device)\n",
    "        tgt = tgt.to(device)\n",
    "\n",
    "        tgt_input = tgt[:-1, :]\n",
    "\n",
    "        logits = model(src, tgt_input)\n",
    "\n",
    "#         logits = model(src, tgt_input, src_mask, tgt_mask,src_padding_mask, tgt_padding_mask, src_padding_mask)\n",
    "\n",
    "        tgt_out = tgt[1:, :]\n",
    "        loss = loss_fn(logits.reshape(-1, logits.shape[-1]), tgt_out.reshape(-1))\n",
    "        losses += loss.item()\n",
    "\n",
    "    return losses / len(val_dataloader)"
   ]
  },
  {
   "cell_type": "code",
   "execution_count": 16,
   "id": "c89f5657",
   "metadata": {
    "ExecuteTime": {
     "end_time": "2022-03-23T02:51:33.336759Z",
     "start_time": "2022-03-23T02:44:32.062802Z"
    },
    "scrolled": true
   },
   "outputs": [
    {
     "name": "stdout",
     "output_type": "stream",
     "text": [
      "Epoch: 1, Train loss: 6.051, Val loss: 5.718, Epoch time = 13.060s\n",
      "Epoch: 2, Train loss: 5.619, Val loss: 5.709, Epoch time = 12.925s\n",
      "Epoch: 3, Train loss: 5.479, Val loss: 5.686, Epoch time = 13.015s\n",
      "Epoch: 4, Train loss: 5.358, Val loss: 5.683, Epoch time = 13.053s\n",
      "Epoch: 5, Train loss: 5.239, Val loss: 5.689, Epoch time = 13.041s\n",
      "Epoch: 6, Train loss: 5.135, Val loss: 5.736, Epoch time = 12.933s\n",
      "Epoch: 7, Train loss: 5.052, Val loss: 5.760, Epoch time = 12.928s\n",
      "Epoch: 8, Train loss: 4.960, Val loss: 5.842, Epoch time = 12.921s\n",
      "Epoch: 9, Train loss: 4.880, Val loss: 5.915, Epoch time = 12.912s\n",
      "Epoch: 10, Train loss: 4.803, Val loss: 5.959, Epoch time = 12.980s\n",
      "Epoch: 11, Train loss: 4.711, Val loss: 6.021, Epoch time = 12.982s\n",
      "Epoch: 12, Train loss: 4.600, Val loss: 6.084, Epoch time = 12.871s\n",
      "Epoch: 13, Train loss: 4.493, Val loss: 6.196, Epoch time = 12.890s\n",
      "Epoch: 14, Train loss: 4.386, Val loss: 6.319, Epoch time = 13.018s\n",
      "Epoch: 15, Train loss: 4.256, Val loss: 6.378, Epoch time = 12.885s\n",
      "Epoch: 16, Train loss: 4.155, Val loss: 6.468, Epoch time = 13.005s\n",
      "Epoch: 17, Train loss: 4.010, Val loss: 6.571, Epoch time = 13.089s\n",
      "Epoch: 18, Train loss: 3.900, Val loss: 6.641, Epoch time = 13.008s\n",
      "Epoch: 19, Train loss: 3.777, Val loss: 6.702, Epoch time = 13.096s\n",
      "Epoch: 20, Train loss: 3.652, Val loss: 6.835, Epoch time = 13.064s\n",
      "Epoch: 21, Train loss: 3.534, Val loss: 6.943, Epoch time = 12.946s\n",
      "Epoch: 22, Train loss: 3.420, Val loss: 7.039, Epoch time = 12.955s\n",
      "Epoch: 23, Train loss: 3.299, Val loss: 7.015, Epoch time = 13.015s\n",
      "Epoch: 24, Train loss: 3.159, Val loss: 7.165, Epoch time = 12.970s\n",
      "Epoch: 25, Train loss: 3.061, Val loss: 7.232, Epoch time = 12.938s\n",
      "Epoch: 26, Train loss: 2.964, Val loss: 7.202, Epoch time = 13.045s\n",
      "Epoch: 27, Train loss: 2.888, Val loss: 7.351, Epoch time = 12.942s\n",
      "Epoch: 28, Train loss: 2.815, Val loss: 7.280, Epoch time = 13.007s\n",
      "Epoch: 29, Train loss: 2.730, Val loss: 7.408, Epoch time = 12.911s\n",
      "Epoch: 30, Train loss: 2.683, Val loss: 7.517, Epoch time = 12.987s\n"
     ]
    }
   ],
   "source": [
    "from timeit import default_timer as timer\n",
    "NUM_EPOCHS = num_epochs\n",
    "\n",
    "for epoch in range(1, NUM_EPOCHS+1):\n",
    "    start_time = timer()\n",
    "    train_loss = train_epoch(model, optimizer)\n",
    "    end_time = timer()\n",
    "    val_loss = evaluate(model)\n",
    "#     val_loss = 0.0\n",
    "    print((f\"Epoch: {epoch}, Train loss: {train_loss:.3f}, Val loss: {val_loss:.3f}, \"f\"Epoch time = {(end_time - start_time):.3f}s\"))\n",
    "\n",
    "\n"
   ]
  },
  {
   "cell_type": "code",
   "execution_count": 17,
   "id": "dea7236f",
   "metadata": {
    "ExecuteTime": {
     "end_time": "2022-03-23T02:51:33.343127Z",
     "start_time": "2022-03-23T02:51:33.338024Z"
    }
   },
   "outputs": [],
   "source": [
    "# function to generate output sequence using greedy algorithm\n",
    "def greedy_decode(model, src, max_len, start_symbol):\n",
    "    src = src.to(device)\n",
    "#     src_mask = src_mask.to(device)\n",
    "\n",
    "    hidden, cell = model.encoder(src)\n",
    "    ys = torch.ones(1,1).fill_(start_symbol).type(torch.long).to(device)\n",
    "#     print(ys.size(),hidden.size(), cell.size())\n",
    "    for i in range(max_len-1):\n",
    "#         print(ys.shape, hidden.shape, cell.shape)\n",
    "        with torch.no_grad():\n",
    "            hidden = hidden.to(device)\n",
    "            cell = cell.to(device)\n",
    "    #         tgt_mask = (generate_square_subsequent_mask(ys.size(0))\n",
    "    #                     .type(torch.bool)).to(DEVICE)\n",
    "            out, hidden, cell = model.decoder(ys[-1], hidden, cell)\n",
    "            best_guess = out.argmax(1).item()\n",
    "#             print('best_guess')\n",
    "#         out = out.transpose(0, 1)\n",
    "#         prob = model.generator(out[:, -1])\n",
    "#         _, next_word = torch.max(prob, dim=1)\n",
    "        next_word = best_guess\n",
    "\n",
    "        ys = torch.cat([ys,\n",
    "                        torch.ones(1,1).type_as(src.data).fill_(next_word)], dim=0)\n",
    "        if next_word == EOS_IDX:\n",
    "            break\n",
    "    return ys\n",
    "\n",
    "\n",
    "# actual function to translate input sentence into target language\n",
    "def translate(model: torch.nn.Module, src_sentence: str):\n",
    "    model.eval()\n",
    "    src = text_transform[SRC_LANGUAGE](src_sentence).view(-1, 1)\n",
    "    num_tokens = src.shape[0]\n",
    "    tgt_tokens = greedy_decode(model, src, max_len=num_tokens + 5, start_symbol=BOS_IDX).flatten()\n",
    "#     print(tgt_tokens)\n",
    "    return \" \".join(vocab_transform[TGT_LANGUAGE].lookup_tokens(list(tgt_tokens.cpu().numpy()))).replace(\"<bos>\", \"\").replace(\"<eos>\", \"\")"
   ]
  },
  {
   "cell_type": "code",
   "execution_count": 18,
   "id": "2ca9fbbf",
   "metadata": {
    "ExecuteTime": {
     "end_time": "2022-03-16T07:05:44.149952Z",
     "start_time": "2022-03-16T07:05:44.146013Z"
    },
    "collapsed": true,
    "jupyter": {
     "outputs_hidden": true
    },
    "tags": []
   },
   "outputs": [],
   "source": [
    "# for i in range(len(test_intent)):\n",
    "#     print(test_intent[i])\n",
    "#     print(translate(model, test_titles[i]))\n",
    "#     print('----')\n",
    "#     break"
   ]
  },
  {
   "cell_type": "code",
   "execution_count": 18,
   "id": "f060500a",
   "metadata": {
    "ExecuteTime": {
     "end_time": "2022-03-16T07:45:25.012433Z",
     "start_time": "2022-03-16T07:45:17.120917Z"
    }
   },
   "outputs": [],
   "source": [
    "preds = []\n",
    "for i in range(len(test_intent)):\n",
    "    # print(test_intent[i])\n",
    "    pred = translate(model, test_titles[i])\n",
    "    preds.append(pred)"
   ]
  },
  {
   "cell_type": "code",
   "execution_count": 19,
   "id": "e8370b36",
   "metadata": {
    "ExecuteTime": {
     "end_time": "2022-03-16T07:45:25.581424Z",
     "start_time": "2022-03-16T07:45:25.013770Z"
    }
   },
   "outputs": [],
   "source": [
    "import datasets\n",
    "rouge = datasets.load_metric('./rouge.py')\n"
   ]
  },
  {
   "cell_type": "code",
   "execution_count": 20,
   "id": "e20a2e6d",
   "metadata": {
    "ExecuteTime": {
     "end_time": "2022-03-16T07:45:25.716213Z",
     "start_time": "2022-03-16T07:45:25.583021Z"
    }
   },
   "outputs": [],
   "source": [
    "rouge_output = rouge.compute(predictions=preds, references=test_intent, rouge_types=[\"rouge2\"])[\"rouge2\"].mid"
   ]
  },
  {
   "cell_type": "code",
   "execution_count": 21,
   "id": "dc3b6472",
   "metadata": {
    "ExecuteTime": {
     "end_time": "2022-03-16T07:45:25.720624Z",
     "start_time": "2022-03-16T07:45:25.717468Z"
    }
   },
   "outputs": [
    {
     "data": {
      "text/plain": [
       "(0.0083, 0.005, 0.0059)"
      ]
     },
     "execution_count": 21,
     "metadata": {},
     "output_type": "execute_result"
    }
   ],
   "source": [
    "round(rouge_output.precision, 4),round(rouge_output.recall, 4),round(rouge_output.fmeasure, 4)"
   ]
  },
  {
   "cell_type": "code",
   "execution_count": 22,
   "id": "a36d5e9b",
   "metadata": {
    "ExecuteTime": {
     "end_time": "2022-03-16T07:45:30.519941Z",
     "start_time": "2022-03-16T07:45:30.389768Z"
    }
   },
   "outputs": [],
   "source": [
    "rouge_output = rouge.compute(predictions=preds, references=test_intent, rouge_types=[\"rouge1\"])[\"rouge1\"].mid"
   ]
  },
  {
   "cell_type": "code",
   "execution_count": 23,
   "id": "50659706",
   "metadata": {
    "ExecuteTime": {
     "end_time": "2022-03-16T07:45:30.781046Z",
     "start_time": "2022-03-16T07:45:30.770930Z"
    }
   },
   "outputs": [
    {
     "data": {
      "text/plain": [
       "(0.0799, 0.044, 0.0521)"
      ]
     },
     "execution_count": 23,
     "metadata": {},
     "output_type": "execute_result"
    }
   ],
   "source": [
    "round(rouge_output.precision, 4),round(rouge_output.recall, 4),round(rouge_output.fmeasure, 4)"
   ]
  },
  {
   "cell_type": "code",
   "execution_count": 24,
   "id": "38e1a625",
   "metadata": {
    "ExecuteTime": {
     "end_time": "2022-03-16T07:45:32.665511Z",
     "start_time": "2022-03-16T07:45:32.539446Z"
    }
   },
   "outputs": [],
   "source": [
    "rouge_output = rouge.compute(predictions=preds, references=test_intent, rouge_types=[\"rougeL\"])[\"rougeL\"].mid"
   ]
  },
  {
   "cell_type": "code",
   "execution_count": 25,
   "id": "76e6e8c1",
   "metadata": {
    "ExecuteTime": {
     "end_time": "2022-03-16T07:45:32.916982Z",
     "start_time": "2022-03-16T07:45:32.910707Z"
    }
   },
   "outputs": [
    {
     "data": {
      "text/plain": [
       "(0.0793, 0.0433, 0.0514)"
      ]
     },
     "execution_count": 25,
     "metadata": {},
     "output_type": "execute_result"
    }
   ],
   "source": [
    "round(rouge_output.precision, 4),round(rouge_output.recall, 4),round(rouge_output.fmeasure, 4)"
   ]
  },
  {
   "cell_type": "code",
   "execution_count": 18,
   "id": "2d628b82",
   "metadata": {
    "ExecuteTime": {
     "end_time": "2022-03-23T02:53:22.020666Z",
     "start_time": "2022-03-23T02:53:22.016369Z"
    }
   },
   "outputs": [],
   "source": [
    "all_bundle = np.load('data/cloth_evaluation.npy', allow_pickle=True).item()\n",
    "\n",
    "intents = []\n",
    "titles = []\n",
    "for k,v in all_bundle.items():\n",
    "    intents.append(v[2])\n",
    "    titles.append(v[1])"
   ]
  },
  {
   "cell_type": "code",
   "execution_count": 20,
   "id": "909cb2a8",
   "metadata": {
    "ExecuteTime": {
     "end_time": "2022-03-23T02:53:35.451349Z",
     "start_time": "2022-03-23T02:53:34.616505Z"
    }
   },
   "outputs": [],
   "source": [
    "finalres = []\n",
    "for i in range(len(intents)):\n",
    "    pred = translate(model, titles[i])\n",
    "    finalres.append((pred, intents[i]))"
   ]
  },
  {
   "cell_type": "code",
   "execution_count": 21,
   "id": "ccff592f",
   "metadata": {
    "ExecuteTime": {
     "end_time": "2022-03-23T02:53:44.664755Z",
     "start_time": "2022-03-23T02:53:44.657431Z"
    },
    "collapsed": true,
    "jupyter": {
     "outputs_hidden": true
    },
    "tags": []
   },
   "outputs": [
    {
     "data": {
      "text/plain": [
       "[(' ', 'Leggings'),\n",
       " (' all for for ', 'These all essential for everyday person'),\n",
       " (\" bracelets of the , of to : Transactional with Transactional is a a or service service they 're , different different of searchers – even with similar habits could could seeking something\",\n",
       "  'same bracelets of different colors'),\n",
       " (' and photography ', 'wallet and card holder similar purpose'),\n",
       " (' ', 'Top'),\n",
       " (' ', 'coats'),\n",
       " (' they ', 'women bottom'),\n",
       " (\" 's in , , of : : : : : is a a or or service they 're , different different of searchers – even with\",\n",
       "  \"Women's Trousers (different style)\"),\n",
       " (' style of charms ', 'different style of earrings'),\n",
       " (\" 's , , , with it it \", \"Men's cufflinks\"),\n",
       " (' and clothing ', 'Footwear and socks'),\n",
       " (' Product use use ', 'All Product use this same time '),\n",
       " (' are all hand hand jewelry ', 'They are all hand jewelry '),\n",
       " (' are all hand hand jewelry ',\n",
       "  'Women Rings Items 1,3,4 and 5 are Alternative products'),\n",
       " (' ', 'sandal'),\n",
       " (\" 's fashion fashion \", \"Women's fashion accessories\"),\n",
       " (' , , , , , , , , , , , highly or or or . ', 'jacket, pant and shoes'),\n",
       " (' , , , , and belt ', 'different style of pants'),\n",
       " (' ’s things ', \"Men's clog\"),\n",
       " (' related related product it user user ', 'No related product'),\n",
       " (' are PC ', \"men's wallet\"),\n",
       " (' ', 'Jewellery'),\n",
       " (\" 's T products \", \"Men's T-shirts with different styles\"),\n",
       " (\" 's T \", 'MENS T-SHIRT'),\n",
       " (' ', \"Men's brief with different styles\"),\n",
       " (' set for ', 'Bijoux'),\n",
       " (' set for ', 'ring'),\n",
       " (' set for ', 'Stainless Steel Rings'),\n",
       " (' all for for for ', 'Leather Goods for Women'),\n",
       " (' PRODUCTS tops ', 'women top'),\n",
       " (' quality ', 'women sneakers and sandals'),\n",
       " (' ', 'jeans'),\n",
       " (' Earrings Earrings ', 'Clip On Earrings'),\n",
       " (' ', 'earings'),\n",
       " (' ’s for ', 'Sweater'),\n",
       " (' ’s for ', 'alternative products'),\n",
       " (' clothes , , , , , , with related highly as as . ', 'Baby wear'),\n",
       " (' buy of women ', 'Footwear'),\n",
       " (' ’s ', 'Men Shoes'),\n",
       " (' style of t - shirt ', 'different style of t-shirt'),\n",
       " (' a for ', \"Women's skirts in different styles\"),\n",
       " (' items of Studio ', 'jewelery'),\n",
       " (' are for fashion ', 'shoes'),\n",
       " (' BOX ', 'Jewelry stands/ displays'),\n",
       " (\" 's three , , , , : : : : is seeking specific or or or ... 're 're , different of – – those similar seeking seeking could something something in their their . \",\n",
       "  'bra'),\n",
       " (\" 's three , , , , : : : : is seeking specific or or or ... 're 're , different of – – those similar seeking seeking could something something in their their . \",\n",
       "  \"women's bra and panty set\"),\n",
       " (' T T SHIRT ', 'MENS T-SHIRT'),\n",
       " (' 2 Piece Pajama ', 'Kids 2 Piece Pajama Set'),\n",
       " (' ', 'women bras'),\n",
       " (' ', 'underware'),\n",
       " (' , , , ', 'MENS SHOE'),\n",
       " (' a a . . ', 'Earring'),\n",
       " (' style of Bracelet ', 'different style of Bracelet'),\n",
       " (' style of basic ', 'different style of panty'),\n",
       " (' ', 'Sandals '),\n",
       " (' ', 'Diffrent types of women shoes'),\n",
       " (' ', 'Slip on Shoes'),\n",
       " (' buy to to to the women ', 'Work Attire'),\n",
       " (' / these high ', 'Edgy/Leather Outfit'),\n",
       " (' go go go go ', 'to go out at night/special events/disco'),\n",
       " (' users to basic the the user intent ', ''),\n",
       " (' are of to to it intent intent ', 'different style of pants'),\n",
       " (' a intent to the user ', \"Women's party dresses\"),\n",
       " (' style of ', 'different style of bra'),\n",
       " (' , , , , , , , , women women ', 'jacket, pants and slipper'),\n",
       " (' with with with ', \"Women's Skinny Jeans\"),\n",
       " (' related ', 'Parts of California Costume'),\n",
       " (' style of bracelet ',\n",
       "  'These can be used by girls so it is reasonable bundle'),\n",
       " (\" are bracelet basic kinds of user : ... Transactional the is a a or or service they 're , different different of searchers – even with purchasing habits could could seeking something different their content . \",\n",
       "  'Chain'),\n",
       " (' quality ', 'Bracelet '),\n",
       " (\" users of buy to buy buy 's \", 'different style of pump'),\n",
       " (\" 's clothing \", \"women's shirt\"),\n",
       " (' buy buy , buy buy buy buy women women herself ',\n",
       "  \"Women's shirts, skirt and boots.\"),\n",
       " (' quality ', 'Dresses'),\n",
       " (' formal meeting invited , , , the with with items with items is a a , , different of searchers . . . . ',\n",
       "  'a formal meeting invited'),\n",
       " (' are are same same ', 'the model are same and different colour'),\n",
       " (' are charms and for it it ', 'the model was same and different color'),\n",
       " (' for a little ', 'something for a little girl'),\n",
       " (\" are three basic kinds of intent intent ... Transactional : user seeking a specific or service they 're , different different of searchers – even with similar habits could could seeking seeking different in content . . those those similar seeking seeking seeking different their content . \",\n",
       "  \"There are three basic kinds of user intent: ... Transactional: the user is seeking a specific product or service ... they're seeking, as different types of searchers – even those with similar purchasing habits – could be seeking something different in their content.\"),\n",
       " (' ', 'Hat'),\n",
       " (' related ', 'mans cap'),\n",
       " (' related related for for user user ', 'sweater'),\n",
       " (' related related for for user user ', \"men's sweater\"),\n",
       " (' quality ', 'Womens Leggings'),\n",
       " (' ’s ', \"Women's boots\"),\n",
       " (' ’s ', 'WOMENS BOOT'),\n",
       " (' ', 'WARM WEATHER ACCESSORIES'),\n",
       " (' buy of ', 'footwear'),\n",
       " (' product all , , of ', 'jewelry'),\n",
       " (\" all three basic kinds user user : : the the is a or or service service they 're , different of searchers – even with purchasing habits could could something in something in content . . \",\n",
       "  'clothing'),\n",
       " (\" 's 's \", 'bras'),\n",
       " (' clothes ', 'baby items'),\n",
       " (' set for pendant ', 'jewelry set'),\n",
       " (' quality ', \"Women's clothing\"),\n",
       " (' women ', 'good worth of collection and value products'),\n",
       " (' with with . ', 'Women Leggings with different styles. '),\n",
       " (' set of set ', 'women ornaments'),\n",
       " (' for for for ', 'ladies bags'),\n",
       " (' ', 'it is very attractive design'),\n",
       " (' ', 'chain')]"
      ]
     },
     "execution_count": 21,
     "metadata": {},
     "output_type": "execute_result"
    }
   ],
   "source": [
    "finalres"
   ]
  },
  {
   "cell_type": "code",
   "execution_count": null,
   "id": "dac930e2",
   "metadata": {},
   "outputs": [],
   "source": [
    "np.save('transformer_cloth.npy', finalres)"
   ]
  }
 ],
 "metadata": {
  "kernelspec": {
   "display_name": "Python 3 (ipykernel)",
   "language": "python",
   "name": "python3"
  },
  "language_info": {
   "codemirror_mode": {
    "name": "ipython",
    "version": 3
   },
   "file_extension": ".py",
   "mimetype": "text/x-python",
   "name": "python",
   "nbconvert_exporter": "python",
   "pygments_lexer": "ipython3",
   "version": "3.8.13"
  }
 },
 "nbformat": 4,
 "nbformat_minor": 5
}
