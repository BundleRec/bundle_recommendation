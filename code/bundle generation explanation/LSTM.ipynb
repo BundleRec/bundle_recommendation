{
 "cells": [
  {
   "cell_type": "code",
   "execution_count": 1,
   "id": "b83ad1d8",
   "metadata": {
    "ExecuteTime": {
     "end_time": "2022-03-16T07:46:56.357544Z",
     "start_time": "2022-03-16T07:46:56.283616Z"
    }
   },
   "outputs": [
    {
     "data": {
      "text/plain": [
       "'Nestle Hot Cocoa Mix Rich Chocolate - 70/0.75oz. Envelopes, Community Coffee Whole Bean Coffee, French Roast, 12-Ounce Bags (Pack of 3)'"
      ]
     },
     "execution_count": 1,
     "metadata": {},
     "output_type": "execute_result"
    }
   ],
   "source": [
    "import numpy as np\n",
    "idx_intent = np.load('data/total_idx_intent.npy', allow_pickle=True).item()\n",
    "idx_titles = np.load('data/total_idx_titles.npy', allow_pickle=True).item()\n",
    "\n",
    "intents = []\n",
    "titles = []\n",
    "for k,v in idx_intent.items():\n",
    "    intents.append(v)\n",
    "    titles.append(idx_titles[k])\n",
    "    \n",
    "# split train, test set = 8:2\n",
    "test_num = int(len(intents)*0.2)\n",
    "\n",
    "train_intent = intents[:-test_num]\n",
    "train_titles = titles[:-test_num]\n",
    "test_intent = intents[-test_num:]\n",
    "test_titles = titles[-test_num:]\n",
    "\n",
    "train_intent.pop(1031)\n",
    "train_titles.pop(1031)\n",
    "test_intent.pop(816)\n",
    "test_titles.pop(816)"
   ]
  },
  {
   "cell_type": "code",
   "execution_count": 2,
   "id": "de241b69",
   "metadata": {
    "ExecuteTime": {
     "end_time": "2022-03-16T07:46:56.594644Z",
     "start_time": "2022-03-16T07:46:56.589150Z"
    }
   },
   "outputs": [],
   "source": [
    "data = {'titles':train_titles,\n",
    "       'intents':train_intent}"
   ]
  },
  {
   "cell_type": "code",
   "execution_count": 3,
   "id": "1b4e5d3a",
   "metadata": {
    "ExecuteTime": {
     "end_time": "2022-03-16T07:46:56.981240Z",
     "start_time": "2022-03-16T07:46:56.975855Z"
    }
   },
   "outputs": [],
   "source": [
    "vali_data = {'titles':test_titles,\n",
    "       'intents':test_intent}"
   ]
  },
  {
   "cell_type": "code",
   "execution_count": 4,
   "id": "16c7ca75",
   "metadata": {
    "ExecuteTime": {
     "end_time": "2022-03-16T07:46:59.975102Z",
     "start_time": "2022-03-16T07:46:57.305682Z"
    }
   },
   "outputs": [],
   "source": [
    "from torchtext.data.utils import get_tokenizer\n",
    "from torchtext.vocab import build_vocab_from_iterator\n",
    "from typing import Iterable, List\n",
    "\n",
    "vocab_transform = {}\n",
    "\n",
    "tokenizer = get_tokenizer('spacy', language='en_core_web_sm')\n",
    "\n",
    "# helper function to yield list of tokens\n",
    "def yield_tokens(data_iter: list, language: str) -> List[str]:\n",
    "    # language_index = {SRC_LANGUAGE: 0, TGT_LANGUAGE: 1}\n",
    "\n",
    "    for data_sample in data_iter:\n",
    "        yield tokenizer(data_sample)\n",
    "\n",
    "# Define special symbols and indices\n",
    "UNK_IDX, PAD_IDX, BOS_IDX, EOS_IDX = 0, 1, 2, 3\n",
    "# Make sure the tokens are in order of their indices to properly insert them in vocab\n",
    "special_symbols = ['<unk>', '<pad>', '<bos>', '<eos>']\n",
    "\n",
    "for ln in ['titles', 'intents']:\n",
    "    # Training data Iterator\n",
    "    # train_iter = Multi30k(split='train', language_pair=(SRC_LANGUAGE, TGT_LANGUAGE))\n",
    "    train_data = data[ln]\n",
    "    # Create torchtext's Vocab object\n",
    "    vocab_transform[ln] = build_vocab_from_iterator(yield_tokens(train_data, ln),\n",
    "                                                    min_freq=1,\n",
    "                                                    specials=special_symbols,\n",
    "                                                    special_first=True)\n",
    "\n",
    "# Set UNK_IDX as the default index. This index is returned when the token is not found.\n",
    "# If not set, it throws RuntimeError when the queried token is not found in the Vocabulary.\n",
    "for ln in ['titles', 'intents']:\n",
    "    vocab_transform[ln].set_default_index(UNK_IDX)"
   ]
  },
  {
   "cell_type": "code",
   "execution_count": 5,
   "id": "b2909354",
   "metadata": {
    "ExecuteTime": {
     "end_time": "2022-03-16T07:46:59.979215Z",
     "start_time": "2022-03-16T07:46:59.976455Z"
    }
   },
   "outputs": [
    {
     "data": {
      "text/plain": [
       "3085"
      ]
     },
     "execution_count": 5,
     "metadata": {},
     "output_type": "execute_result"
    }
   ],
   "source": [
    "len(vocab_transform['intents'])"
   ]
  },
  {
   "cell_type": "code",
   "execution_count": 6,
   "id": "e921b274",
   "metadata": {
    "ExecuteTime": {
     "end_time": "2022-03-16T07:46:59.984174Z",
     "start_time": "2022-03-16T07:46:59.980311Z"
    }
   },
   "outputs": [],
   "source": [
    "SRC_LANGUAGE = 'titles'\n",
    "TGT_LANGUAGE = 'intents'"
   ]
  },
  {
   "cell_type": "code",
   "execution_count": 7,
   "id": "36167b75",
   "metadata": {
    "ExecuteTime": {
     "end_time": "2022-03-16T07:46:59.997268Z",
     "start_time": "2022-03-16T07:46:59.993993Z"
    }
   },
   "outputs": [],
   "source": [
    "from torch import nn\n",
    "# Defining the Encoder part of the model\n",
    "class Encoder(nn.Module):\n",
    "    \n",
    "    def __init__(self, input_size, embedding_size, hidden_size, num_layers, p):\n",
    "        super(Encoder, self).__init__()\n",
    "        self.dropout = nn.Dropout(p)\n",
    "        self.hidden_size = hidden_size\n",
    "        self.num_layers = num_layers\n",
    "\n",
    "        self.embedding = nn.Embedding(input_size, embedding_size)\n",
    "        self.rnn = nn.LSTM(embedding_size, hidden_size, num_layers, dropout=p)\n",
    "\n",
    "    def forward(self, x):\n",
    "        # x shape: (seq_length, N) where N is batch size\n",
    "\n",
    "        embedding = self.dropout(self.embedding(x))\n",
    "        # embedding shape: (seq_length, N, embedding_size)\n",
    "\n",
    "        outputs, (hidden, cell) = self.rnn(embedding)\n",
    "        # outputs shape: (seq_length, N, hidden_size)\n",
    "#         print(x.shape, cell.shape)\n",
    "\n",
    "        return hidden, cell"
   ]
  },
  {
   "cell_type": "code",
   "execution_count": 8,
   "id": "962b91c4",
   "metadata": {
    "ExecuteTime": {
     "end_time": "2022-03-16T07:47:00.682321Z",
     "start_time": "2022-03-16T07:47:00.675252Z"
    }
   },
   "outputs": [],
   "source": [
    "# Defining the Decoder part\n",
    "\n",
    "class Decoder(nn.Module):\n",
    "    def __init__(\n",
    "        self, input_size, embedding_size, hidden_size, output_size, num_layers, p):\n",
    "        super(Decoder, self).__init__()\n",
    "        self.dropout = nn.Dropout(p)\n",
    "        self.hidden_size = hidden_size\n",
    "        self.num_layers = num_layers\n",
    "\n",
    "        self.embedding = nn.Embedding(input_size, embedding_size)\n",
    "        self.rnn = nn.LSTM(embedding_size, hidden_size, num_layers, dropout=p)\n",
    "        self.fc = nn.Linear(hidden_size, output_size)\n",
    "\n",
    "    def forward(self, x, hidden, cell):\n",
    "        # x shape: (N) where N is for batch size, we want it to be (1, N), seq_length\n",
    "        # is 1 here because we are sending in a single word and not a sentence\n",
    "        x = x.unsqueeze(0)\n",
    "\n",
    "        embedding = self.dropout(self.embedding(x))\n",
    "        # embedding shape: (1, N, embedding_size)\n",
    "\n",
    "        outputs, (hidden, cell) = self.rnn(embedding, (hidden, cell))\n",
    "        # outputs shape: (1, N, hidden_size)\n",
    "\n",
    "        predictions = self.fc(outputs)\n",
    "\n",
    "        # predictions shape: (1, N, length_target_vocabulary) to send it to\n",
    "        # loss function we want it to be (N, length_target_vocabulary) so we're\n",
    "        # just gonna remove the first dim\n",
    "        predictions = predictions.squeeze(0)\n",
    "\n",
    "        return predictions, hidden, cell"
   ]
  },
  {
   "cell_type": "code",
   "execution_count": 9,
   "id": "f0539c38",
   "metadata": {
    "ExecuteTime": {
     "end_time": "2022-03-16T07:47:01.868394Z",
     "start_time": "2022-03-16T07:47:01.861800Z"
    }
   },
   "outputs": [],
   "source": [
    "import random\n",
    "\n",
    "# Defining the complete model\n",
    "class Seq2Seq(nn.Module):\n",
    "    def __init__(self, encoder, decoder):\n",
    "        super(Seq2Seq, self).__init__()\n",
    "        self.encoder = encoder\n",
    "        self.decoder = decoder\n",
    "\n",
    "    def forward(self, source, target, teacher_force_ratio=0.5):\n",
    "        batch_size = source.shape[1]\n",
    "        target_len = target.shape[0]\n",
    "        # SRC_VOCAB_SIZE = len(vocab_transform[SRC_LANGUAGE])\n",
    "        # TGT_VOCAB_SIZE = len(vocab_transform[TGT_LANGUAGE])\n",
    "        # target_vocab_size = len(english.vocab)\n",
    "        target_vocab_size = len(vocab_transform[TGT_LANGUAGE])\n",
    "\n",
    "        outputs = torch.zeros(target_len, batch_size, target_vocab_size).to(device)\n",
    "\n",
    "        hidden, cell = self.encoder(source)\n",
    "#         print(source.shape)\n",
    "#         print(hidden.shape)\n",
    "        # Grab the first input to the Decoder which will be <SOS> token\n",
    "        x = target[0]\n",
    "#         print(x.size(), hidden.size(), cell.size())\n",
    "        for t in range(1, target_len):\n",
    "            # Use previous hidden, cell as context from encoder at start\n",
    "            output, hidden, cell = self.decoder(x, hidden, cell)\n",
    "\n",
    "            # Store next output prediction\n",
    "            outputs[t] = output\n",
    "\n",
    "            # Get the best word the Decoder predicted (index in the vocabulary)\n",
    "            best_guess = output.argmax(1)\n",
    "\n",
    "            # With probability of teacher_force_ratio we take the actual next word\n",
    "            # otherwise we take the word that the Decoder predicted it to be.\n",
    "            # Teacher Forcing is used so that the model gets used to seeing\n",
    "            # similar inputs at training and testing time, if teacher forcing is 1\n",
    "            # then inputs at test time might be completely different than what the\n",
    "            # network is used to. This was a long comment.\n",
    "            x = target[t] if random.random() < teacher_force_ratio else best_guess\n",
    "\n",
    "        return outputs"
   ]
  },
  {
   "cell_type": "code",
   "execution_count": 10,
   "id": "c53c3889",
   "metadata": {
    "ExecuteTime": {
     "end_time": "2022-03-16T07:47:03.025703Z",
     "start_time": "2022-03-16T07:47:03.015091Z"
    }
   },
   "outputs": [],
   "source": [
    "import torch\n",
    "\n",
    "# Hyperparameters\n",
    "num_epochs = 20\n",
    "learning_rate = 0.001\n",
    "batch_size = 64\n",
    "\n",
    "# Model hyperparameters\n",
    "load_model = False\n",
    "device = torch.device(\"cuda\" if torch.cuda.is_available() else 'cpu')\n",
    "input_size_encoder = len(vocab_transform[SRC_LANGUAGE])\n",
    "input_size_decoder = len(vocab_transform[TGT_LANGUAGE])\n",
    "output_size = len(vocab_transform[TGT_LANGUAGE])\n",
    "encoder_embedding_size = 300\n",
    "decoder_embedding_size = 300\n",
    "\n",
    "hidden_size = 512\n",
    "num_layers = 2\n",
    "enc_dropout = 0.5\n",
    "dec_dropout = 0.5"
   ]
  },
  {
   "cell_type": "code",
   "execution_count": 11,
   "id": "073e0eba",
   "metadata": {
    "ExecuteTime": {
     "end_time": "2022-03-16T07:47:06.629146Z",
     "start_time": "2022-03-16T07:47:03.793833Z"
    }
   },
   "outputs": [
    {
     "name": "stdout",
     "output_type": "stream",
     "text": [
      "Seq2Seq(\n",
      "  (encoder): Encoder(\n",
      "    (dropout): Dropout(p=0.5, inplace=False)\n",
      "    (embedding): Embedding(18264, 300)\n",
      "    (rnn): LSTM(300, 512, num_layers=2, dropout=0.5)\n",
      "  )\n",
      "  (decoder): Decoder(\n",
      "    (dropout): Dropout(p=0.5, inplace=False)\n",
      "    (embedding): Embedding(3085, 300)\n",
      "    (rnn): LSTM(300, 512, num_layers=2, dropout=0.5)\n",
      "    (fc): Linear(in_features=512, out_features=3085, bias=True)\n",
      "  )\n",
      ")\n"
     ]
    }
   ],
   "source": [
    "encoder_net = Encoder(input_size_encoder, \n",
    "                      encoder_embedding_size,\n",
    "                      hidden_size,num_layers, \n",
    "                      enc_dropout).to(device)\n",
    "\n",
    "\n",
    "decoder_net = Decoder(input_size_decoder, \n",
    "                      decoder_embedding_size,\n",
    "                      hidden_size,output_size,num_layers, \n",
    "                      dec_dropout).to(device)\n",
    "\n",
    "model = Seq2Seq(encoder_net, decoder_net).to(device)\n",
    "optimizer = torch.optim.Adam(model.parameters(), lr=learning_rate)\n",
    "loss_fn = torch.nn.CrossEntropyLoss(ignore_index=PAD_IDX)\n",
    "\n",
    "print(model)"
   ]
  },
  {
   "cell_type": "code",
   "execution_count": 12,
   "id": "50aa3e23",
   "metadata": {
    "ExecuteTime": {
     "end_time": "2022-03-16T07:47:06.633841Z",
     "start_time": "2022-03-16T07:47:06.630417Z"
    }
   },
   "outputs": [],
   "source": [
    "from torch.utils import data\n",
    "\n",
    "class TransData(data.Dataset):\n",
    "    def __init__(self, titles, intents, is_training=True):\n",
    "        \"\"\"\n",
    "        Dataset formatter adapted pair-wise algorithms\n",
    "        Parameters\n",
    "        ----------\n",
    "        neg_set : List,\n",
    "        is_training : bool,\n",
    "        \"\"\"\n",
    "        super(TransData, self).__init__()\n",
    "        self.titles = titles\n",
    "        self.intents = intents\n",
    "\n",
    "        # self.features_fill = []\n",
    "\n",
    "        # for u, i, r, js in neg_set:\n",
    "        #     u, i, r = int(u), int(i), np.float32(1)\n",
    "        #     if is_training:\n",
    "        #         for j in js:\n",
    "        #             self.features_fill.append([u, i, j, r])\n",
    "        #     else:\n",
    "        #         self.features_fill.append([u, i, i, r])\n",
    "\n",
    "    def __len__(self):\n",
    "        return len(self.titles)\n",
    "\n",
    "    def __getitem__(self, idx):\n",
    "        # features = self.features_fill\n",
    "        # user = features[idx][0]\n",
    "        # item_i = features[idx][1]\n",
    "        # item_j = features[idx][2]\n",
    "        # label = features[idx][3]\n",
    "\n",
    "        return self.titles[idx], self.intents[idx]"
   ]
  },
  {
   "cell_type": "code",
   "execution_count": 13,
   "id": "10ee30c6",
   "metadata": {
    "ExecuteTime": {
     "end_time": "2022-03-16T07:47:06.640891Z",
     "start_time": "2022-03-16T07:47:06.635212Z"
    }
   },
   "outputs": [],
   "source": [
    "data4Train = TransData(train_titles, train_intent)"
   ]
  },
  {
   "cell_type": "code",
   "execution_count": 14,
   "id": "4909a770",
   "metadata": {
    "ExecuteTime": {
     "end_time": "2022-03-16T07:47:06.646955Z",
     "start_time": "2022-03-16T07:47:06.642104Z"
    }
   },
   "outputs": [],
   "source": [
    "from torch.nn.utils.rnn import pad_sequence\n",
    "\n",
    "# helper function to club together sequential operations\n",
    "def sequential_transforms(*transforms):\n",
    "    def func(txt_input):\n",
    "        for transform in transforms:\n",
    "            txt_input = transform(txt_input)\n",
    "        return txt_input\n",
    "    return func\n",
    "\n",
    "# function to add BOS/EOS and create tensor for input sequence indices\n",
    "def tensor_transform(token_ids: List[int]):\n",
    "    return torch.cat((torch.tensor([BOS_IDX]),\n",
    "                      torch.tensor(token_ids),\n",
    "                      torch.tensor([EOS_IDX])))\n",
    "\n",
    "# src and tgt language text transforms to convert raw strings into tensors indices\n",
    "text_transform = {}\n",
    "for ln in [SRC_LANGUAGE, TGT_LANGUAGE]:\n",
    "    text_transform[ln] = sequential_transforms(tokenizer, #Tokenization token_transform[ln]\n",
    "                                               vocab_transform[ln], #Numericalization\n",
    "                                               tensor_transform) # Add BOS/EOS and create tensor\n",
    "\n",
    "\n",
    "# function to collate data samples into batch tesors\n",
    "def collate_fn(batch):\n",
    "    src_batch, tgt_batch = [], []\n",
    "    for src_sample, tgt_sample in batch:\n",
    "        src_batch.append(text_transform[SRC_LANGUAGE](src_sample.rstrip(\"\\n\")))\n",
    "        tgt_batch.append(text_transform[TGT_LANGUAGE](tgt_sample.rstrip(\"\\n\")))\n",
    "\n",
    "    src_batch = pad_sequence(src_batch, padding_value=PAD_IDX)\n",
    "    tgt_batch = pad_sequence(tgt_batch, padding_value=PAD_IDX)\n",
    "    return src_batch, tgt_batch"
   ]
  },
  {
   "cell_type": "code",
   "execution_count": 15,
   "id": "de4c39dd",
   "metadata": {
    "ExecuteTime": {
     "end_time": "2022-03-16T07:47:07.002492Z",
     "start_time": "2022-03-16T07:47:06.994324Z"
    }
   },
   "outputs": [],
   "source": [
    "from torch.utils.data import DataLoader\n",
    "\n",
    "def train_epoch(model, optimizer):\n",
    "    model.train()\n",
    "    losses = 0\n",
    "    # train_iter = Multi30k(split='train', language_pair=(SRC_LANGUAGE, TGT_LANGUAGE))\n",
    "    train_iter = data4Train\n",
    "    train_dataloader = DataLoader(train_iter, batch_size=batch_size, collate_fn=collate_fn)\n",
    "\n",
    "    for src, tgt in train_dataloader:\n",
    "        src = src.to(device)\n",
    "        tgt = tgt.to(device)\n",
    "\n",
    "        tgt_input = tgt[:-1, :]\n",
    "\n",
    "#         src_mask, tgt_mask, src_padding_mask, tgt_padding_mask = create_mask(src, tgt_input)\n",
    "\n",
    "#         logits = model(src, tgt_input, src_mask, tgt_mask,src_padding_mask, tgt_padding_mask, src_padding_mask)\n",
    "\n",
    "        logits = model(src, tgt_input)\n",
    "        optimizer.zero_grad()\n",
    "\n",
    "        tgt_out = tgt[1:, :]\n",
    "        loss = loss_fn(logits.reshape(-1, logits.shape[-1]), tgt_out.reshape(-1))\n",
    "        loss.backward()\n",
    "\n",
    "        optimizer.step()\n",
    "        losses += loss.item()\n",
    "\n",
    "    return losses / len(train_dataloader)\n",
    "\n",
    "\n",
    "def evaluate(model):\n",
    "    model.eval()\n",
    "    losses = 0\n",
    "\n",
    "    # val_iter = Multi30k(split='valid', language_pair=(SRC_LANGUAGE, TGT_LANGUAGE))\n",
    "    val_iter = TransData(test_titles, test_intent)\n",
    "    val_dataloader = DataLoader(val_iter, batch_size=batch_size, collate_fn=collate_fn)\n",
    "\n",
    "    for src, tgt in val_dataloader:\n",
    "        src = src.to(device)\n",
    "        tgt = tgt.to(device)\n",
    "\n",
    "        tgt_input = tgt[:-1, :]\n",
    "\n",
    "        logits = model(src, tgt_input)\n",
    "\n",
    "#         logits = model(src, tgt_input, src_mask, tgt_mask,src_padding_mask, tgt_padding_mask, src_padding_mask)\n",
    "\n",
    "        tgt_out = tgt[1:, :]\n",
    "        loss = loss_fn(logits.reshape(-1, logits.shape[-1]), tgt_out.reshape(-1))\n",
    "        losses += loss.item()\n",
    "\n",
    "    return losses / len(val_dataloader)"
   ]
  },
  {
   "cell_type": "code",
   "execution_count": 16,
   "id": "d86480dc",
   "metadata": {
    "ExecuteTime": {
     "end_time": "2022-03-16T07:49:32.423900Z",
     "start_time": "2022-03-16T07:47:08.677962Z"
    }
   },
   "outputs": [
    {
     "name": "stdout",
     "output_type": "stream",
     "text": [
      "Epoch: 1, Train loss: 6.028, Val loss: 5.745, Epoch time = 6.610s\n",
      "Epoch: 2, Train loss: 5.630, Val loss: 5.765, Epoch time = 6.530s\n",
      "Epoch: 3, Train loss: 5.533, Val loss: 5.799, Epoch time = 6.529s\n",
      "Epoch: 4, Train loss: 5.488, Val loss: 5.794, Epoch time = 6.556s\n",
      "Epoch: 5, Train loss: 5.435, Val loss: 5.849, Epoch time = 6.619s\n",
      "Epoch: 6, Train loss: 5.399, Val loss: 5.864, Epoch time = 6.583s\n",
      "Epoch: 7, Train loss: 5.369, Val loss: 5.861, Epoch time = 6.593s\n",
      "Epoch: 8, Train loss: 5.342, Val loss: 5.840, Epoch time = 6.582s\n",
      "Epoch: 9, Train loss: 5.315, Val loss: 5.890, Epoch time = 6.616s\n",
      "Epoch: 10, Train loss: 5.297, Val loss: 5.904, Epoch time = 6.617s\n",
      "Epoch: 11, Train loss: 5.255, Val loss: 5.910, Epoch time = 6.590s\n",
      "Epoch: 12, Train loss: 5.240, Val loss: 5.906, Epoch time = 6.638s\n",
      "Epoch: 13, Train loss: 5.195, Val loss: 5.915, Epoch time = 6.659s\n",
      "Epoch: 14, Train loss: 5.172, Val loss: 5.896, Epoch time = 6.686s\n",
      "Epoch: 15, Train loss: 5.143, Val loss: 5.919, Epoch time = 6.661s\n",
      "Epoch: 16, Train loss: 5.100, Val loss: 5.937, Epoch time = 6.680s\n",
      "Epoch: 17, Train loss: 5.052, Val loss: 5.920, Epoch time = 6.738s\n",
      "Epoch: 18, Train loss: 5.022, Val loss: 5.932, Epoch time = 6.638s\n",
      "Epoch: 19, Train loss: 4.977, Val loss: 5.912, Epoch time = 6.665s\n",
      "Epoch: 20, Train loss: 4.924, Val loss: 5.872, Epoch time = 6.709s\n"
     ]
    }
   ],
   "source": [
    "from timeit import default_timer as timer\n",
    "NUM_EPOCHS = num_epochs\n",
    "\n",
    "for epoch in range(1, NUM_EPOCHS+1):\n",
    "    start_time = timer()\n",
    "    train_loss = train_epoch(model, optimizer)\n",
    "    end_time = timer()\n",
    "    val_loss = evaluate(model)\n",
    "#     val_loss = 0.0\n",
    "    print((f\"Epoch: {epoch}, Train loss: {train_loss:.3f}, Val loss: {val_loss:.3f}, \"f\"Epoch time = {(end_time - start_time):.3f}s\"))\n",
    "\n",
    "\n"
   ]
  },
  {
   "cell_type": "code",
   "execution_count": 17,
   "id": "b49c344a",
   "metadata": {
    "ExecuteTime": {
     "end_time": "2022-03-16T07:52:07.862262Z",
     "start_time": "2022-03-16T07:52:07.854422Z"
    }
   },
   "outputs": [],
   "source": [
    "# function to generate output sequence using greedy algorithm\n",
    "def greedy_decode(model, src, max_len, start_symbol):\n",
    "    src = src.to(device)\n",
    "#     src_mask = src_mask.to(device)\n",
    "\n",
    "    hidden, cell = model.encoder(src)\n",
    "    ys = torch.ones(1,1).fill_(start_symbol).type(torch.long).to(device)\n",
    "#     print(ys.size(),hidden.size(), cell.size())\n",
    "    for i in range(max_len-1):\n",
    "#         print(ys.shape, hidden.shape, cell.shape)\n",
    "        with torch.no_grad():\n",
    "            hidden = hidden.to(device)\n",
    "            cell = cell.to(device)\n",
    "    #         tgt_mask = (generate_square_subsequent_mask(ys.size(0))\n",
    "    #                     .type(torch.bool)).to(DEVICE)\n",
    "            out, hidden, cell = model.decoder(ys[-1], hidden, cell)\n",
    "            best_guess = out.argmax(1).item()\n",
    "#             print('best_guess')\n",
    "#         out = out.transpose(0, 1)\n",
    "#         prob = model.generator(out[:, -1])\n",
    "#         _, next_word = torch.max(prob, dim=1)\n",
    "        next_word = best_guess\n",
    "\n",
    "        ys = torch.cat([ys,\n",
    "                        torch.ones(1,1).type_as(src.data).fill_(next_word)], dim=0)\n",
    "        if next_word == EOS_IDX:\n",
    "            break\n",
    "    return ys\n",
    "\n",
    "\n",
    "# actual function to translate input sentence into target language\n",
    "def translate(model: torch.nn.Module, src_sentence: str):\n",
    "    model.eval()\n",
    "    src = text_transform[SRC_LANGUAGE](src_sentence).view(-1, 1)\n",
    "    num_tokens = src.shape[0]\n",
    "    tgt_tokens = greedy_decode(model, src, max_len=num_tokens + 5, start_symbol=BOS_IDX).flatten()\n",
    "#     print(tgt_tokens)\n",
    "    return \" \".join(vocab_transform[TGT_LANGUAGE].lookup_tokens(list(tgt_tokens.cpu().numpy()))).replace(\"<bos>\", \"\").replace(\"<eos>\", \"\")"
   ]
  },
  {
   "cell_type": "code",
   "execution_count": 18,
   "id": "ca36fb75",
   "metadata": {
    "ExecuteTime": {
     "end_time": "2022-03-16T07:52:09.033873Z",
     "start_time": "2022-03-16T07:52:09.032072Z"
    }
   },
   "outputs": [],
   "source": [
    "# print(translate(model, \"a good dog.\"))"
   ]
  },
  {
   "cell_type": "code",
   "execution_count": 19,
   "id": "618cc3b0",
   "metadata": {
    "ExecuteTime": {
     "end_time": "2022-03-16T07:52:10.557198Z",
     "start_time": "2022-03-16T07:52:10.440937Z"
    },
    "collapsed": true,
    "jupyter": {
     "outputs_hidden": true
    },
    "tags": []
   },
   "outputs": [
    {
     "name": "stdout",
     "output_type": "stream",
     "text": [
      "assembling of computer r\n",
      " a \n",
      "----\n"
     ]
    }
   ],
   "source": [
    "for i in range(len(test_intent)):\n",
    "    print(test_intent[i])\n",
    "    print(translate(model, test_titles[i]))\n",
    "    print('----')\n",
    "    break"
   ]
  },
  {
   "cell_type": "code",
   "execution_count": 20,
   "id": "e09352a0",
   "metadata": {
    "ExecuteTime": {
     "end_time": "2022-03-16T07:52:24.768042Z",
     "start_time": "2022-03-16T07:52:20.481699Z"
    }
   },
   "outputs": [],
   "source": [
    "preds = []\n",
    "for i in range(len(test_intent)):\n",
    "    # print(test_intent[i])\n",
    "    pred = translate(model, test_titles[i])\n",
    "    preds.append(pred)"
   ]
  },
  {
   "cell_type": "code",
   "execution_count": 21,
   "id": "dd07286d",
   "metadata": {
    "ExecuteTime": {
     "end_time": "2022-03-16T07:52:42.499099Z",
     "start_time": "2022-03-16T07:52:41.930421Z"
    }
   },
   "outputs": [],
   "source": [
    "import datasets\n",
    "rouge = datasets.load_metric('./rouge.py')\n"
   ]
  },
  {
   "cell_type": "code",
   "execution_count": 22,
   "id": "9ddb2966",
   "metadata": {
    "ExecuteTime": {
     "end_time": "2022-03-16T07:52:43.395133Z",
     "start_time": "2022-03-16T07:52:43.256060Z"
    }
   },
   "outputs": [],
   "source": [
    "rouge_output = rouge.compute(predictions=preds, references=test_intent, rouge_types=[\"rouge2\"])[\"rouge2\"].mid"
   ]
  },
  {
   "cell_type": "code",
   "execution_count": 23,
   "id": "e3ceda75",
   "metadata": {
    "ExecuteTime": {
     "end_time": "2022-03-16T07:52:43.886990Z",
     "start_time": "2022-03-16T07:52:43.877025Z"
    }
   },
   "outputs": [
    {
     "data": {
      "text/plain": [
       "(0.0, 0.0, 0.0)"
      ]
     },
     "execution_count": 23,
     "metadata": {},
     "output_type": "execute_result"
    }
   ],
   "source": [
    "round(rouge_output.precision, 4),round(rouge_output.recall, 4),round(rouge_output.fmeasure, 4)"
   ]
  },
  {
   "cell_type": "code",
   "execution_count": 24,
   "id": "9adedf08",
   "metadata": {
    "ExecuteTime": {
     "end_time": "2022-03-16T07:52:44.736668Z",
     "start_time": "2022-03-16T07:52:44.607282Z"
    }
   },
   "outputs": [],
   "source": [
    "rouge_output = rouge.compute(predictions=preds, references=test_intent, rouge_types=[\"rouge1\"])[\"rouge1\"].mid"
   ]
  },
  {
   "cell_type": "code",
   "execution_count": 25,
   "id": "5d746c71",
   "metadata": {
    "ExecuteTime": {
     "end_time": "2022-03-16T07:52:45.288062Z",
     "start_time": "2022-03-16T07:52:45.277586Z"
    }
   },
   "outputs": [
    {
     "data": {
      "text/plain": [
       "(0.044, 0.0193, 0.0242)"
      ]
     },
     "execution_count": 25,
     "metadata": {},
     "output_type": "execute_result"
    }
   ],
   "source": [
    "round(rouge_output.precision, 4),round(rouge_output.recall, 4),round(rouge_output.fmeasure, 4)"
   ]
  },
  {
   "cell_type": "code",
   "execution_count": 26,
   "id": "24dfaaa7",
   "metadata": {
    "ExecuteTime": {
     "end_time": "2022-03-16T07:52:51.041873Z",
     "start_time": "2022-03-16T07:52:50.889040Z"
    }
   },
   "outputs": [],
   "source": [
    "rouge_output = rouge.compute(predictions=preds, references=test_intent, rouge_types=[\"rougeL\"])[\"rougeL\"].mid"
   ]
  },
  {
   "cell_type": "code",
   "execution_count": 27,
   "id": "c00027b3",
   "metadata": {
    "ExecuteTime": {
     "end_time": "2022-03-16T07:52:51.359974Z",
     "start_time": "2022-03-16T07:52:51.349957Z"
    }
   },
   "outputs": [
    {
     "data": {
      "text/plain": [
       "(0.0428, 0.0175, 0.0228)"
      ]
     },
     "execution_count": 27,
     "metadata": {},
     "output_type": "execute_result"
    }
   ],
   "source": [
    "round(rouge_output.precision, 4),round(rouge_output.recall, 4),round(rouge_output.fmeasure, 4)"
   ]
  },
  {
   "cell_type": "code",
   "execution_count": 43,
   "id": "b4f7bc9a",
   "metadata": {
    "ExecuteTime": {
     "end_time": "2022-03-14T15:48:02.665910Z",
     "start_time": "2022-03-14T15:48:02.659972Z"
    }
   },
   "outputs": [],
   "source": [
    "a = torch.ones(4,4,8)"
   ]
  },
  {
   "cell_type": "code",
   "execution_count": 44,
   "id": "711af8e3",
   "metadata": {
    "ExecuteTime": {
     "end_time": "2022-03-14T15:48:31.064123Z",
     "start_time": "2022-03-14T15:48:31.057952Z"
    }
   },
   "outputs": [],
   "source": [
    "b = a[0,:,:] + a[2,:,:]"
   ]
  },
  {
   "cell_type": "code",
   "execution_count": 45,
   "id": "b9a52815",
   "metadata": {
    "ExecuteTime": {
     "end_time": "2022-03-14T15:48:49.102733Z",
     "start_time": "2022-03-14T15:48:49.096493Z"
    }
   },
   "outputs": [],
   "source": [
    "c = a[1,:,:] + a[3,:,:]"
   ]
  },
  {
   "cell_type": "code",
   "execution_count": 49,
   "id": "46d4d0a6",
   "metadata": {
    "ExecuteTime": {
     "end_time": "2022-03-14T15:50:37.243867Z",
     "start_time": "2022-03-14T15:50:37.237345Z"
    }
   },
   "outputs": [
    {
     "ename": "ValueError",
     "evalue": "only one element tensors can be converted to Python scalars",
     "output_type": "error",
     "traceback": [
      "\u001b[0;31m---------------------------------------------------------------------------\u001b[0m",
      "\u001b[0;31mValueError\u001b[0m                                Traceback (most recent call last)",
      "\u001b[0;32m<ipython-input-49-99d825505198>\u001b[0m in \u001b[0;36m<module>\u001b[0;34m\u001b[0m\n\u001b[0;32m----> 1\u001b[0;31m \u001b[0md\u001b[0m \u001b[0;34m=\u001b[0m \u001b[0mtorch\u001b[0m\u001b[0;34m.\u001b[0m\u001b[0mtensor\u001b[0m\u001b[0;34m(\u001b[0m\u001b[0;34m(\u001b[0m\u001b[0mb\u001b[0m\u001b[0;34m,\u001b[0m\u001b[0mc\u001b[0m\u001b[0;34m)\u001b[0m\u001b[0;34m)\u001b[0m\u001b[0;34m\u001b[0m\u001b[0;34m\u001b[0m\u001b[0m\n\u001b[0m",
      "\u001b[0;31mValueError\u001b[0m: only one element tensors can be converted to Python scalars"
     ]
    }
   ],
   "source": [
    "d = torch.tensor((b,c))"
   ]
  },
  {
   "cell_type": "code",
   "execution_count": 52,
   "id": "e26a91dc",
   "metadata": {
    "ExecuteTime": {
     "end_time": "2022-03-14T15:51:05.601827Z",
     "start_time": "2022-03-14T15:51:05.596239Z"
    }
   },
   "outputs": [],
   "source": [
    "d = [b,c]"
   ]
  },
  {
   "cell_type": "code",
   "execution_count": 60,
   "id": "bc21e111",
   "metadata": {
    "ExecuteTime": {
     "end_time": "2022-03-14T16:00:25.445158Z",
     "start_time": "2022-03-14T16:00:25.442278Z"
    }
   },
   "outputs": [
    {
     "data": {
      "text/plain": [
       "torch.Size([2, 4, 8])"
      ]
     },
     "execution_count": 60,
     "metadata": {},
     "output_type": "execute_result"
    }
   ],
   "source": [
    "torch.stack(d).shape"
   ]
  },
  {
   "cell_type": "code",
   "execution_count": 42,
   "id": "504eb855",
   "metadata": {
    "ExecuteTime": {
     "end_time": "2022-03-14T15:06:51.642208Z",
     "start_time": "2022-03-14T15:06:51.633912Z"
    }
   },
   "outputs": [
    {
     "data": {
      "text/plain": [
       "torch.Size([2, 4, 8])"
      ]
     },
     "execution_count": 42,
     "metadata": {},
     "output_type": "execute_result"
    }
   ],
   "source": [
    "d.shape"
   ]
  },
  {
   "cell_type": "code",
   "execution_count": 61,
   "id": "ee673887",
   "metadata": {
    "ExecuteTime": {
     "end_time": "2022-03-14T16:01:22.415773Z",
     "start_time": "2022-03-14T16:01:22.411104Z"
    }
   },
   "outputs": [],
   "source": [
    "final = []\n",
    "for i in range(2):\n",
    "    temp = a[i,:,:] + a[i+2,:,:]\n",
    "    final.append(temp)\n",
    "#     print(i)\n",
    "final_state = torch.stack(final)"
   ]
  },
  {
   "cell_type": "code",
   "execution_count": 62,
   "id": "735c292e",
   "metadata": {
    "ExecuteTime": {
     "end_time": "2022-03-14T16:01:29.564797Z",
     "start_time": "2022-03-14T16:01:29.561985Z"
    }
   },
   "outputs": [
    {
     "data": {
      "text/plain": [
       "torch.Size([2, 4, 8])"
      ]
     },
     "execution_count": 62,
     "metadata": {},
     "output_type": "execute_result"
    }
   ],
   "source": [
    "final_state.shape"
   ]
  },
  {
   "cell_type": "code",
   "execution_count": null,
   "id": "9d0c92fe",
   "metadata": {},
   "outputs": [],
   "source": []
  }
 ],
 "metadata": {
  "kernelspec": {
   "display_name": "Python 3 (ipykernel)",
   "language": "python",
   "name": "python3"
  },
  "language_info": {
   "codemirror_mode": {
    "name": "ipython",
    "version": 3
   },
   "file_extension": ".py",
   "mimetype": "text/x-python",
   "name": "python",
   "nbconvert_exporter": "python",
   "pygments_lexer": "ipython3",
   "version": "3.8.13"
  }
 },
 "nbformat": 4,
 "nbformat_minor": 5
}
